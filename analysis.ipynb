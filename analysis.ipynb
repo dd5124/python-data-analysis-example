{
 "cells": [
  {
   "cell_type": "code",
   "execution_count": 65,
   "id": "824ed7db",
   "metadata": {},
   "outputs": [],
   "source": [
    "import matplotlib.pyplot as plt\n",
    "import os\n",
    "import glob\n",
    "import pandas as pd\n",
    "import numpy as np\n",
    "import seaborn as sns\n",
    "from pathlib import Path\n",
    "import statsmodels.formula.api as smf\n",
    "import sklearn\n",
    "import folium\n",
    "from sklearn import linear_model\n",
    "from sklearn.preprocessing import LabelBinarizer\n",
    "import econml\n",
    "from sklearn.model_selection import train_test_split\n",
    "from doubleml import DoubleMLData\n",
    "from sklearn.base import clone\n",
    "from sklearn.ensemble import RandomForestRegressor\n",
    "from doubleml import DoubleMLPLR"
   ]
  },
  {
   "cell_type": "markdown",
   "id": "7be9c453",
   "metadata": {},
   "source": [
    "Data source is from Bayes package in R.\n",
    "\n",
    "Documentation can be found on https://cran.r-project.org/web/packages/bayesm/bayesm.pdf.\n",
    "\n",
    "Source <br>\n",
    "Alan L. Montgomery (1997), \"Creating Micro-Marketing Pricing Strategies Using Supermarket\n",
    "Scanner Data,\" Marketing Science 16(4) 315–337.\n",
    "\n",
    "References </br>\n",
    "Chapter 5, Bayesian Statistics and Marketing by Rossi, Allenby, and McCulloch\n",
    "\n",
    "### Question: how does the previous week's price affect this week's quantities sold?\n",
    "\n",
    "According to [Economic Research Service of U.S Department of Agriculture](https://www.ers.usda.gov/data-products/chart-gallery/gallery/chart-detail/?chartId=58322#:~:text=Bananas%20(13.4%20pounds%20per%20person,gallons)%20remained%20America's%20favorite%20juice.), orange juice is America's favorite juice. Almost 50% of all juice consumed by Americans is ornage juice. The goal of this report is analyzing supermarket scanner data supports this claim. If Americans indeed love orange juice, the elasticitiy should be more inelastic. i.e. price increase should not stop Americans from buying orange juices!"
   ]
  },
  {
   "cell_type": "markdown",
   "id": "ecd6b014",
   "metadata": {},
   "source": [
    "# Data cleaning"
   ]
  },
  {
   "cell_type": "code",
   "execution_count": 66,
   "id": "654fafa0",
   "metadata": {},
   "outputs": [],
   "source": [
    "sales_df = pd.read_csv('data_/sales.csv')\n",
    "store_df = pd.read_csv('data_/store.csv')"
   ]
  },
  {
   "cell_type": "code",
   "execution_count": 67,
   "id": "b076bacc",
   "metadata": {
    "scrolled": true
   },
   "outputs": [
    {
     "data": {
      "text/plain": [
       "(106139, 19)"
      ]
     },
     "execution_count": 67,
     "metadata": {},
     "output_type": "execute_result"
    }
   ],
   "source": [
    "sales_df.shape"
   ]
  },
  {
   "cell_type": "code",
   "execution_count": 68,
   "id": "5f9763f1",
   "metadata": {},
   "outputs": [
    {
     "data": {
      "text/plain": [
       "(83, 12)"
      ]
     },
     "execution_count": 68,
     "metadata": {},
     "output_type": "execute_result"
    }
   ],
   "source": [
    "store_df.shape"
   ]
  },
  {
   "cell_type": "code",
   "execution_count": 69,
   "id": "57604c9e",
   "metadata": {
    "scrolled": true
   },
   "outputs": [
    {
     "data": {
      "text/html": [
       "<div>\n",
       "<style scoped>\n",
       "    .dataframe tbody tr th:only-of-type {\n",
       "        vertical-align: middle;\n",
       "    }\n",
       "\n",
       "    .dataframe tbody tr th {\n",
       "        vertical-align: top;\n",
       "    }\n",
       "\n",
       "    .dataframe thead th {\n",
       "        text-align: right;\n",
       "    }\n",
       "</style>\n",
       "<table border=\"1\" class=\"dataframe\">\n",
       "  <thead>\n",
       "    <tr style=\"text-align: right;\">\n",
       "      <th></th>\n",
       "      <th>store</th>\n",
       "      <th>brand</th>\n",
       "      <th>week</th>\n",
       "      <th>logmove</th>\n",
       "      <th>constant</th>\n",
       "      <th>price1</th>\n",
       "      <th>price2</th>\n",
       "      <th>price3</th>\n",
       "      <th>price4</th>\n",
       "      <th>price5</th>\n",
       "      <th>price6</th>\n",
       "      <th>price7</th>\n",
       "      <th>price8</th>\n",
       "      <th>price9</th>\n",
       "      <th>price10</th>\n",
       "      <th>price11</th>\n",
       "      <th>deal</th>\n",
       "      <th>feat</th>\n",
       "      <th>profit</th>\n",
       "    </tr>\n",
       "  </thead>\n",
       "  <tbody>\n",
       "    <tr>\n",
       "      <th>0</th>\n",
       "      <td>2</td>\n",
       "      <td>1</td>\n",
       "      <td>40</td>\n",
       "      <td>9.018695</td>\n",
       "      <td>1</td>\n",
       "      <td>0.060469</td>\n",
       "      <td>0.060497</td>\n",
       "      <td>0.042031</td>\n",
       "      <td>0.029531</td>\n",
       "      <td>0.049531</td>\n",
       "      <td>0.053021</td>\n",
       "      <td>0.038906</td>\n",
       "      <td>0.041406</td>\n",
       "      <td>0.028906</td>\n",
       "      <td>0.024844</td>\n",
       "      <td>0.038984</td>\n",
       "      <td>1</td>\n",
       "      <td>0.0</td>\n",
       "      <td>37.992326</td>\n",
       "    </tr>\n",
       "    <tr>\n",
       "      <th>1</th>\n",
       "      <td>2</td>\n",
       "      <td>1</td>\n",
       "      <td>46</td>\n",
       "      <td>8.723231</td>\n",
       "      <td>1</td>\n",
       "      <td>0.060469</td>\n",
       "      <td>0.060312</td>\n",
       "      <td>0.045156</td>\n",
       "      <td>0.046719</td>\n",
       "      <td>0.049531</td>\n",
       "      <td>0.047813</td>\n",
       "      <td>0.045781</td>\n",
       "      <td>0.027969</td>\n",
       "      <td>0.042969</td>\n",
       "      <td>0.042031</td>\n",
       "      <td>0.038984</td>\n",
       "      <td>0</td>\n",
       "      <td>0.0</td>\n",
       "      <td>30.126667</td>\n",
       "    </tr>\n",
       "    <tr>\n",
       "      <th>2</th>\n",
       "      <td>2</td>\n",
       "      <td>1</td>\n",
       "      <td>47</td>\n",
       "      <td>8.253228</td>\n",
       "      <td>1</td>\n",
       "      <td>0.060469</td>\n",
       "      <td>0.060312</td>\n",
       "      <td>0.045156</td>\n",
       "      <td>0.046719</td>\n",
       "      <td>0.037344</td>\n",
       "      <td>0.053021</td>\n",
       "      <td>0.045781</td>\n",
       "      <td>0.041406</td>\n",
       "      <td>0.048125</td>\n",
       "      <td>0.032656</td>\n",
       "      <td>0.038984</td>\n",
       "      <td>0</td>\n",
       "      <td>0.0</td>\n",
       "      <td>30.000000</td>\n",
       "    </tr>\n",
       "    <tr>\n",
       "      <th>3</th>\n",
       "      <td>2</td>\n",
       "      <td>1</td>\n",
       "      <td>48</td>\n",
       "      <td>8.987197</td>\n",
       "      <td>1</td>\n",
       "      <td>0.060469</td>\n",
       "      <td>0.060312</td>\n",
       "      <td>0.049844</td>\n",
       "      <td>0.037344</td>\n",
       "      <td>0.049531</td>\n",
       "      <td>0.053021</td>\n",
       "      <td>0.045781</td>\n",
       "      <td>0.041406</td>\n",
       "      <td>0.042344</td>\n",
       "      <td>0.032656</td>\n",
       "      <td>0.038984</td>\n",
       "      <td>0</td>\n",
       "      <td>0.0</td>\n",
       "      <td>29.950000</td>\n",
       "    </tr>\n",
       "    <tr>\n",
       "      <th>4</th>\n",
       "      <td>2</td>\n",
       "      <td>1</td>\n",
       "      <td>50</td>\n",
       "      <td>9.093357</td>\n",
       "      <td>1</td>\n",
       "      <td>0.060469</td>\n",
       "      <td>0.060312</td>\n",
       "      <td>0.043594</td>\n",
       "      <td>0.031094</td>\n",
       "      <td>0.049531</td>\n",
       "      <td>0.053021</td>\n",
       "      <td>0.046648</td>\n",
       "      <td>0.041406</td>\n",
       "      <td>0.042344</td>\n",
       "      <td>0.032656</td>\n",
       "      <td>0.038203</td>\n",
       "      <td>0</td>\n",
       "      <td>0.0</td>\n",
       "      <td>29.920000</td>\n",
       "    </tr>\n",
       "  </tbody>\n",
       "</table>\n",
       "</div>"
      ],
      "text/plain": [
       "   store  brand  week   logmove  constant    price1    price2    price3  \\\n",
       "0      2      1    40  9.018695         1  0.060469  0.060497  0.042031   \n",
       "1      2      1    46  8.723231         1  0.060469  0.060312  0.045156   \n",
       "2      2      1    47  8.253228         1  0.060469  0.060312  0.045156   \n",
       "3      2      1    48  8.987197         1  0.060469  0.060312  0.049844   \n",
       "4      2      1    50  9.093357         1  0.060469  0.060312  0.043594   \n",
       "\n",
       "     price4    price5    price6    price7    price8    price9   price10  \\\n",
       "0  0.029531  0.049531  0.053021  0.038906  0.041406  0.028906  0.024844   \n",
       "1  0.046719  0.049531  0.047813  0.045781  0.027969  0.042969  0.042031   \n",
       "2  0.046719  0.037344  0.053021  0.045781  0.041406  0.048125  0.032656   \n",
       "3  0.037344  0.049531  0.053021  0.045781  0.041406  0.042344  0.032656   \n",
       "4  0.031094  0.049531  0.053021  0.046648  0.041406  0.042344  0.032656   \n",
       "\n",
       "    price11  deal  feat     profit  \n",
       "0  0.038984     1   0.0  37.992326  \n",
       "1  0.038984     0   0.0  30.126667  \n",
       "2  0.038984     0   0.0  30.000000  \n",
       "3  0.038984     0   0.0  29.950000  \n",
       "4  0.038203     0   0.0  29.920000  "
      ]
     },
     "execution_count": 69,
     "metadata": {},
     "output_type": "execute_result"
    }
   ],
   "source": [
    "sales_df.head()"
   ]
  },
  {
   "cell_type": "code",
   "execution_count": 70,
   "id": "881cfb6d",
   "metadata": {
    "scrolled": true
   },
   "outputs": [
    {
     "data": {
      "text/html": [
       "<div>\n",
       "<style scoped>\n",
       "    .dataframe tbody tr th:only-of-type {\n",
       "        vertical-align: middle;\n",
       "    }\n",
       "\n",
       "    .dataframe tbody tr th {\n",
       "        vertical-align: top;\n",
       "    }\n",
       "\n",
       "    .dataframe thead th {\n",
       "        text-align: right;\n",
       "    }\n",
       "</style>\n",
       "<table border=\"1\" class=\"dataframe\">\n",
       "  <thead>\n",
       "    <tr style=\"text-align: right;\">\n",
       "      <th></th>\n",
       "      <th>STORE</th>\n",
       "      <th>AGE60</th>\n",
       "      <th>EDUC</th>\n",
       "      <th>ETHNIC</th>\n",
       "      <th>INCOME</th>\n",
       "      <th>HHLARGE</th>\n",
       "      <th>WORKWOM</th>\n",
       "      <th>HVAL150</th>\n",
       "      <th>SSTRDIST</th>\n",
       "      <th>SSTRVOL</th>\n",
       "      <th>CPDIST5</th>\n",
       "      <th>CPWVOL5</th>\n",
       "    </tr>\n",
       "  </thead>\n",
       "  <tbody>\n",
       "    <tr>\n",
       "      <th>0</th>\n",
       "      <td>2</td>\n",
       "      <td>0.232865</td>\n",
       "      <td>0.248935</td>\n",
       "      <td>0.114280</td>\n",
       "      <td>10.553205</td>\n",
       "      <td>0.103953</td>\n",
       "      <td>0.303585</td>\n",
       "      <td>0.463887</td>\n",
       "      <td>2.110122</td>\n",
       "      <td>1.142857</td>\n",
       "      <td>1.927280</td>\n",
       "      <td>0.376927</td>\n",
       "    </tr>\n",
       "    <tr>\n",
       "      <th>1</th>\n",
       "      <td>5</td>\n",
       "      <td>0.117368</td>\n",
       "      <td>0.321226</td>\n",
       "      <td>0.053875</td>\n",
       "      <td>10.922371</td>\n",
       "      <td>0.103092</td>\n",
       "      <td>0.410568</td>\n",
       "      <td>0.535883</td>\n",
       "      <td>3.801998</td>\n",
       "      <td>0.681818</td>\n",
       "      <td>1.600573</td>\n",
       "      <td>0.736307</td>\n",
       "    </tr>\n",
       "    <tr>\n",
       "      <th>2</th>\n",
       "      <td>8</td>\n",
       "      <td>0.252394</td>\n",
       "      <td>0.095173</td>\n",
       "      <td>0.035243</td>\n",
       "      <td>10.597010</td>\n",
       "      <td>0.131750</td>\n",
       "      <td>0.283075</td>\n",
       "      <td>0.054227</td>\n",
       "      <td>2.636333</td>\n",
       "      <td>1.500000</td>\n",
       "      <td>2.905384</td>\n",
       "      <td>0.641016</td>\n",
       "    </tr>\n",
       "    <tr>\n",
       "      <th>3</th>\n",
       "      <td>9</td>\n",
       "      <td>0.269119</td>\n",
       "      <td>0.222172</td>\n",
       "      <td>0.032619</td>\n",
       "      <td>10.787152</td>\n",
       "      <td>0.096830</td>\n",
       "      <td>0.358995</td>\n",
       "      <td>0.505747</td>\n",
       "      <td>1.103279</td>\n",
       "      <td>0.666667</td>\n",
       "      <td>1.820474</td>\n",
       "      <td>0.441268</td>\n",
       "    </tr>\n",
       "    <tr>\n",
       "      <th>4</th>\n",
       "      <td>12</td>\n",
       "      <td>0.178341</td>\n",
       "      <td>0.253413</td>\n",
       "      <td>0.380698</td>\n",
       "      <td>9.996659</td>\n",
       "      <td>0.057212</td>\n",
       "      <td>0.390942</td>\n",
       "      <td>0.386628</td>\n",
       "      <td>9.198734</td>\n",
       "      <td>1.111111</td>\n",
       "      <td>0.839303</td>\n",
       "      <td>0.105999</td>\n",
       "    </tr>\n",
       "  </tbody>\n",
       "</table>\n",
       "</div>"
      ],
      "text/plain": [
       "   STORE     AGE60      EDUC    ETHNIC     INCOME   HHLARGE   WORKWOM  \\\n",
       "0      2  0.232865  0.248935  0.114280  10.553205  0.103953  0.303585   \n",
       "1      5  0.117368  0.321226  0.053875  10.922371  0.103092  0.410568   \n",
       "2      8  0.252394  0.095173  0.035243  10.597010  0.131750  0.283075   \n",
       "3      9  0.269119  0.222172  0.032619  10.787152  0.096830  0.358995   \n",
       "4     12  0.178341  0.253413  0.380698   9.996659  0.057212  0.390942   \n",
       "\n",
       "    HVAL150  SSTRDIST   SSTRVOL   CPDIST5   CPWVOL5  \n",
       "0  0.463887  2.110122  1.142857  1.927280  0.376927  \n",
       "1  0.535883  3.801998  0.681818  1.600573  0.736307  \n",
       "2  0.054227  2.636333  1.500000  2.905384  0.641016  \n",
       "3  0.505747  1.103279  0.666667  1.820474  0.441268  \n",
       "4  0.386628  9.198734  1.111111  0.839303  0.105999  "
      ]
     },
     "execution_count": 70,
     "metadata": {},
     "output_type": "execute_result"
    }
   ],
   "source": [
    "store_df.head()"
   ]
  },
  {
   "cell_type": "code",
   "execution_count": 71,
   "id": "eb20633a",
   "metadata": {},
   "outputs": [],
   "source": [
    "# Join the tables by store id\n",
    "df = pd.merge(sales_df,store_df,left_on='store', right_on='STORE',how='left')"
   ]
  },
  {
   "cell_type": "code",
   "execution_count": 72,
   "id": "5a94e5c3",
   "metadata": {},
   "outputs": [
    {
     "data": {
      "text/plain": [
       "(106139, 31)"
      ]
     },
     "execution_count": 72,
     "metadata": {},
     "output_type": "execute_result"
    }
   ],
   "source": [
    "df.shape"
   ]
  },
  {
   "cell_type": "code",
   "execution_count": 73,
   "id": "0f9f73f1",
   "metadata": {},
   "outputs": [],
   "source": [
    "df = df.drop(columns=['constant'])"
   ]
  },
  {
   "cell_type": "code",
   "execution_count": 74,
   "id": "47094c66",
   "metadata": {},
   "outputs": [],
   "source": [
    "v = df.filter(like='price').columns.tolist()\n",
    "other_vars = df.columns.difference(v)\n",
    "result = df.melt(id_vars=other_vars, value_vars=v,value_name='price')\n",
    "df = result"
   ]
  },
  {
   "cell_type": "markdown",
   "id": "d94c8f30",
   "metadata": {},
   "source": [
    "Each variables are defined as: <br>\n",
    "store: store number <br>\n",
    "brand: brand indicator <br>\n",
    "week: week number <br>\n",
    "logmove: log of the number of units sold <br>\n",
    "price#: price of brand # <br>\n",
    "deal: in-store coupon activity <br>\n",
    "feature: whether there was feature advertisement for the brand at the store # on the week. <br>\n",
    "profit: profit of the juice <br>\n",
    "\n",
    "AGE60: percentage of the population that is aged 60 or older <br>\n",
    "EDUC: percentage of the population that has a college degree <br>\n",
    "ETHNIC: percent of the population that is black or Hispanic <br>\n",
    "INCOME: median income <br>\n",
    "HHLARGE: percentage of households with 5 or more persons <br>\n",
    "WORKWOM: percentage of women with full-time jobs <br>\n",
    "HVAL150: percentage of households worth more than $150,000 <br>\n",
    "SSTRDIST: distance to the nearest warehouse store <br>\n",
    "SSTRVOL: ratio of sales of this store to the nearest warehouse store <br>\n",
    "CPDIST5: average distance in miles to the nearest 5 supermarkets <br>\n",
    "CPWVOL5: ratio of sales of this store to the average of the nearest five stores <br>\n",
    "\n",
    "\n",
    "Each price variables are defined as:\n",
    "\n",
    "1 Tropicana Premium 64 oz </br>\n",
    "2 Tropicana Premium 96 oz </br>\n",
    "3 Florida’s Natural 64 oz </br>\n",
    "4 Tropicana 64 oz </br>\n",
    "5 Minute Maid 64 oz </br>\n",
    "6 Minute Maid 96 oz </br>\n",
    "7 Citrus Hill 64 oz </br>\n",
    "8 Tree Fresh 64 oz </br>\n",
    "9 Florida Gold 64 oz </br>\n",
    "10 Dominicks 64 oz </br>\n",
    "11 Dominicks 128 oz </br>\n",
    "\n",
    "Exact product type is unnecessary for the goal of this report, so the wide price data will be pivoted to long price data and the brand will be recorded in a seperate column. "
   ]
  },
  {
   "cell_type": "code",
   "execution_count": 75,
   "id": "e0167f33",
   "metadata": {},
   "outputs": [],
   "source": [
    "# merge brands and change brand integer label to string\n",
    "b_name = {\n",
    "    'Tropicana': [1, 2, 4], \n",
    "    'Florida_natural': [3], \n",
    "    'Minute_maid': [5, 6], \n",
    "    'Citrus_hill': [7], \n",
    "    'Tree_fresh': [8], \n",
    "    'Florida_gold': [9], \n",
    "    'Dominicks': [10,11]}\n",
    "b_size = {\n",
    "    64: [1, 3, 4, 5, 7, 8, 9, 10], \n",
    "    96: [2, 6], \n",
    "    128: [11]}\n",
    "df['new_brand'] = df.brand.map({item: k for k, v in b_name.items() for item in v})\n",
    "df['new_brand'] = df['new_brand'].astype('string')\n",
    "df['size'] = df.brand.map({item: k for k, v in b_size.items() for item in v})\n",
    "df = df.drop(['brand', 'variable'],axis=1)\n",
    "df = df.rename({'new_brand': 'brand'}, axis=1)"
   ]
  },
  {
   "cell_type": "code",
   "execution_count": 76,
   "id": "c7501193",
   "metadata": {
    "scrolled": true
   },
   "outputs": [
    {
     "data": {
      "text/plain": [
       "AGE60       float64\n",
       "CPDIST5     float64\n",
       "CPWVOL5     float64\n",
       "EDUC        float64\n",
       "ETHNIC      float64\n",
       "HHLARGE     float64\n",
       "HVAL150     float64\n",
       "INCOME      float64\n",
       "SSTRDIST    float64\n",
       "SSTRVOL     float64\n",
       "STORE         int64\n",
       "WORKWOM     float64\n",
       "deal          int64\n",
       "feat        float64\n",
       "logmove     float64\n",
       "profit      float64\n",
       "store         int64\n",
       "week          int64\n",
       "price       float64\n",
       "brand        string\n",
       "size          int64\n",
       "dtype: object"
      ]
     },
     "execution_count": 76,
     "metadata": {},
     "output_type": "execute_result"
    }
   ],
   "source": [
    "df.dtypes"
   ]
  },
  {
   "cell_type": "code",
   "execution_count": 77,
   "id": "8e41f708",
   "metadata": {},
   "outputs": [
    {
     "data": {
      "text/plain": [
       "AGE60       False\n",
       "CPDIST5     False\n",
       "CPWVOL5     False\n",
       "EDUC        False\n",
       "ETHNIC      False\n",
       "HHLARGE     False\n",
       "HVAL150     False\n",
       "INCOME      False\n",
       "SSTRDIST    False\n",
       "SSTRVOL     False\n",
       "STORE       False\n",
       "WORKWOM     False\n",
       "deal         True\n",
       "feat         True\n",
       "logmove     False\n",
       "profit       True\n",
       "store       False\n",
       "week        False\n",
       "price       False\n",
       "brand       False\n",
       "size        False\n",
       "dtype: bool"
      ]
     },
     "execution_count": 77,
     "metadata": {},
     "output_type": "execute_result"
    }
   ],
   "source": [
    "(df == 0).any()"
   ]
  },
  {
   "cell_type": "code",
   "execution_count": 78,
   "id": "4736f716",
   "metadata": {
    "scrolled": true
   },
   "outputs": [
    {
     "data": {
      "text/plain": [
       "AGE60       False\n",
       "CPDIST5     False\n",
       "CPWVOL5     False\n",
       "EDUC        False\n",
       "ETHNIC      False\n",
       "HHLARGE     False\n",
       "HVAL150     False\n",
       "INCOME      False\n",
       "SSTRDIST    False\n",
       "SSTRVOL     False\n",
       "STORE       False\n",
       "WORKWOM     False\n",
       "deal         True\n",
       "feat         True\n",
       "logmove     False\n",
       "profit       True\n",
       "store       False\n",
       "week        False\n",
       "price       False\n",
       "size        False\n",
       "dtype: bool"
      ]
     },
     "execution_count": 78,
     "metadata": {},
     "output_type": "execute_result"
    }
   ],
   "source": [
    "(df.select_dtypes(include=[np.number]) <= 0).any()"
   ]
  },
  {
   "cell_type": "markdown",
   "id": "d2e690c4",
   "metadata": {},
   "source": [
    "There is no negative or numbers that does not make sense."
   ]
  },
  {
   "cell_type": "code",
   "execution_count": 79,
   "id": "96751a49",
   "metadata": {},
   "outputs": [
    {
     "data": {
      "text/plain": [
       "AGE60       0\n",
       "CPDIST5     0\n",
       "CPWVOL5     0\n",
       "EDUC        0\n",
       "ETHNIC      0\n",
       "HHLARGE     0\n",
       "HVAL150     0\n",
       "INCOME      0\n",
       "SSTRDIST    0\n",
       "SSTRVOL     0\n",
       "STORE       0\n",
       "WORKWOM     0\n",
       "deal        0\n",
       "feat        0\n",
       "logmove     0\n",
       "profit      0\n",
       "store       0\n",
       "week        0\n",
       "price       0\n",
       "brand       0\n",
       "size        0\n",
       "dtype: int64"
      ]
     },
     "execution_count": 79,
     "metadata": {},
     "output_type": "execute_result"
    }
   ],
   "source": [
    "df.isna().sum()"
   ]
  },
  {
   "cell_type": "markdown",
   "id": "bd34ac3a",
   "metadata": {},
   "source": [
    "There is no missing values."
   ]
  },
  {
   "cell_type": "code",
   "execution_count": 80,
   "id": "eed24e94",
   "metadata": {},
   "outputs": [],
   "source": [
    "# change price to log price\n",
    "df['price'] = df['price'].apply(np.log)"
   ]
  },
  {
   "cell_type": "code",
   "execution_count": 81,
   "id": "0126ae1d",
   "metadata": {
    "scrolled": true
   },
   "outputs": [
    {
     "data": {
      "image/png": "[encoded data removed]",
      "text/plain": [
       "<Figure size 2520x2160 with 20 Axes>"
      ]
     },
     "metadata": {
      "needs_background": "light"
     },
     "output_type": "display_data"
    }
   ],
   "source": [
    "num_df = df.select_dtypes(include=[np.number])\n",
    "num_df.hist(figsize = (35,30), bins = 50)\n",
    "plt.show()"
   ]
  },
  {
   "cell_type": "markdown",
   "id": "00595064",
   "metadata": {},
   "source": [
    "The variable of interest is log price and the distribution looks similar, so price will be replaced with log(price)"
   ]
  },
  {
   "cell_type": "code",
   "execution_count": 82,
   "id": "dc95b8a0",
   "metadata": {},
   "outputs": [],
   "source": [
    "# lagged_df = df.sort_values('week') \n",
    "# price_start = lagged_df.columns.get_loc(\"price1\")\n",
    "# price_end = lagged_df.columns.get_loc(\"price11\")+1\n",
    "# for i in range(price_start, price_end):\n",
    "#     var = 'lag_' + df.columns[i]\n",
    "#     lagged_df[var] = df.groupby([\"store\", \"brand\"])[df.columns[i]].shift(1)\n",
    "    \n",
    "# lagged_df = lagged_df.dropna(subset=['lag_price1'])\n",
    "# df = lagged_df"
   ]
  },
  {
   "cell_type": "markdown",
   "id": "1414b4f8",
   "metadata": {},
   "source": [
    "The final data looks like the following:"
   ]
  },
  {
   "cell_type": "code",
   "execution_count": 83,
   "id": "98ae5181",
   "metadata": {
    "scrolled": false
   },
   "outputs": [
    {
     "data": {
      "text/html": [
       "<div>\n",
       "<style scoped>\n",
       "    .dataframe tbody tr th:only-of-type {\n",
       "        vertical-align: middle;\n",
       "    }\n",
       "\n",
       "    .dataframe tbody tr th {\n",
       "        vertical-align: top;\n",
       "    }\n",
       "\n",
       "    .dataframe thead th {\n",
       "        text-align: right;\n",
       "    }\n",
       "</style>\n",
       "<table border=\"1\" class=\"dataframe\">\n",
       "  <thead>\n",
       "    <tr style=\"text-align: right;\">\n",
       "      <th></th>\n",
       "      <th>AGE60</th>\n",
       "      <th>CPDIST5</th>\n",
       "      <th>CPWVOL5</th>\n",
       "      <th>EDUC</th>\n",
       "      <th>ETHNIC</th>\n",
       "      <th>HHLARGE</th>\n",
       "      <th>HVAL150</th>\n",
       "      <th>INCOME</th>\n",
       "      <th>SSTRDIST</th>\n",
       "      <th>SSTRVOL</th>\n",
       "      <th>...</th>\n",
       "      <th>WORKWOM</th>\n",
       "      <th>deal</th>\n",
       "      <th>feat</th>\n",
       "      <th>logmove</th>\n",
       "      <th>profit</th>\n",
       "      <th>store</th>\n",
       "      <th>week</th>\n",
       "      <th>price</th>\n",
       "      <th>brand</th>\n",
       "      <th>size</th>\n",
       "    </tr>\n",
       "  </thead>\n",
       "  <tbody>\n",
       "    <tr>\n",
       "      <th>490283</th>\n",
       "      <td>0.249201</td>\n",
       "      <td>3.133177</td>\n",
       "      <td>0.381569</td>\n",
       "      <td>0.051703</td>\n",
       "      <td>0.164964</td>\n",
       "      <td>0.125409</td>\n",
       "      <td>0.009843</td>\n",
       "      <td>10.573596</td>\n",
       "      <td>6.230357</td>\n",
       "      <td>1.500000</td>\n",
       "      <td>...</td>\n",
       "      <td>0.299584</td>\n",
       "      <td>1</td>\n",
       "      <td>1.0</td>\n",
       "      <td>10.241102</td>\n",
       "      <td>17.788418</td>\n",
       "      <td>98</td>\n",
       "      <td>134</td>\n",
       "      <td>-3.470748</td>\n",
       "      <td>Minute_maid</td>\n",
       "      <td>64</td>\n",
       "    </tr>\n",
       "    <tr>\n",
       "      <th>359101</th>\n",
       "      <td>0.257451</td>\n",
       "      <td>3.228630</td>\n",
       "      <td>0.183188</td>\n",
       "      <td>0.073054</td>\n",
       "      <td>0.109213</td>\n",
       "      <td>0.135341</td>\n",
       "      <td>0.005144</td>\n",
       "      <td>10.614966</td>\n",
       "      <td>2.584605</td>\n",
       "      <td>1.500000</td>\n",
       "      <td>...</td>\n",
       "      <td>0.292748</td>\n",
       "      <td>1</td>\n",
       "      <td>1.0</td>\n",
       "      <td>10.117308</td>\n",
       "      <td>29.680000</td>\n",
       "      <td>73</td>\n",
       "      <td>106</td>\n",
       "      <td>-3.634155</td>\n",
       "      <td>Dominicks</td>\n",
       "      <td>64</td>\n",
       "    </tr>\n",
       "    <tr>\n",
       "      <th>497772</th>\n",
       "      <td>0.175542</td>\n",
       "      <td>3.354377</td>\n",
       "      <td>0.520134</td>\n",
       "      <td>0.094236</td>\n",
       "      <td>0.365411</td>\n",
       "      <td>0.159840</td>\n",
       "      <td>0.074419</td>\n",
       "      <td>10.414393</td>\n",
       "      <td>4.037829</td>\n",
       "      <td>0.960000</td>\n",
       "      <td>...</td>\n",
       "      <td>0.360890</td>\n",
       "      <td>1</td>\n",
       "      <td>0.0</td>\n",
       "      <td>7.103322</td>\n",
       "      <td>26.985789</td>\n",
       "      <td>105</td>\n",
       "      <td>123</td>\n",
       "      <td>-3.246600</td>\n",
       "      <td>Florida_natural</td>\n",
       "      <td>64</td>\n",
       "    </tr>\n",
       "    <tr>\n",
       "      <th>1097674</th>\n",
       "      <td>0.190236</td>\n",
       "      <td>3.527768</td>\n",
       "      <td>0.367773</td>\n",
       "      <td>0.165670</td>\n",
       "      <td>0.162861</td>\n",
       "      <td>0.110543</td>\n",
       "      <td>0.049271</td>\n",
       "      <td>10.412351</td>\n",
       "      <td>3.909329</td>\n",
       "      <td>0.500000</td>\n",
       "      <td>...</td>\n",
       "      <td>0.327729</td>\n",
       "      <td>0</td>\n",
       "      <td>0.0</td>\n",
       "      <td>8.850231</td>\n",
       "      <td>12.227293</td>\n",
       "      <td>70</td>\n",
       "      <td>138</td>\n",
       "      <td>-3.756757</td>\n",
       "      <td>Minute_maid</td>\n",
       "      <td>64</td>\n",
       "    </tr>\n",
       "    <tr>\n",
       "      <th>975253</th>\n",
       "      <td>0.097922</td>\n",
       "      <td>2.198071</td>\n",
       "      <td>0.904417</td>\n",
       "      <td>0.303260</td>\n",
       "      <td>0.099492</td>\n",
       "      <td>0.078487</td>\n",
       "      <td>0.303356</td>\n",
       "      <td>10.756029</td>\n",
       "      <td>4.650687</td>\n",
       "      <td>1.615385</td>\n",
       "      <td>...</td>\n",
       "      <td>0.459683</td>\n",
       "      <td>1</td>\n",
       "      <td>0.0</td>\n",
       "      <td>7.249926</td>\n",
       "      <td>17.740000</td>\n",
       "      <td>48</td>\n",
       "      <td>65</td>\n",
       "      <td>-3.374982</td>\n",
       "      <td>Tree_fresh</td>\n",
       "      <td>64</td>\n",
       "    </tr>\n",
       "  </tbody>\n",
       "</table>\n",
       "<p>5 rows × 21 columns</p>\n",
       "</div>"
      ],
      "text/plain": [
       "            AGE60   CPDIST5   CPWVOL5      EDUC    ETHNIC   HHLARGE   HVAL150  \\\n",
       "490283   0.249201  3.133177  0.381569  0.051703  0.164964  0.125409  0.009843   \n",
       "359101   0.257451  3.228630  0.183188  0.073054  0.109213  0.135341  0.005144   \n",
       "497772   0.175542  3.354377  0.520134  0.094236  0.365411  0.159840  0.074419   \n",
       "1097674  0.190236  3.527768  0.367773  0.165670  0.162861  0.110543  0.049271   \n",
       "975253   0.097922  2.198071  0.904417  0.303260  0.099492  0.078487  0.303356   \n",
       "\n",
       "            INCOME  SSTRDIST   SSTRVOL  ...   WORKWOM  deal  feat    logmove  \\\n",
       "490283   10.573596  6.230357  1.500000  ...  0.299584     1   1.0  10.241102   \n",
       "359101   10.614966  2.584605  1.500000  ...  0.292748     1   1.0  10.117308   \n",
       "497772   10.414393  4.037829  0.960000  ...  0.360890     1   0.0   7.103322   \n",
       "1097674  10.412351  3.909329  0.500000  ...  0.327729     0   0.0   8.850231   \n",
       "975253   10.756029  4.650687  1.615385  ...  0.459683     1   0.0   7.249926   \n",
       "\n",
       "            profit  store  week     price            brand size  \n",
       "490283   17.788418     98   134 -3.470748      Minute_maid   64  \n",
       "359101   29.680000     73   106 -3.634155        Dominicks   64  \n",
       "497772   26.985789    105   123 -3.246600  Florida_natural   64  \n",
       "1097674  12.227293     70   138 -3.756757      Minute_maid   64  \n",
       "975253   17.740000     48    65 -3.374982       Tree_fresh   64  \n",
       "\n",
       "[5 rows x 21 columns]"
      ]
     },
     "execution_count": 83,
     "metadata": {},
     "output_type": "execute_result"
    }
   ],
   "source": [
    "df.sample(5)"
   ]
  },
  {
   "cell_type": "code",
   "execution_count": 84,
   "id": "1e5e33aa",
   "metadata": {},
   "outputs": [
    {
     "data": {
      "text/plain": [
       "AGE60       float64\n",
       "CPDIST5     float64\n",
       "CPWVOL5     float64\n",
       "EDUC        float64\n",
       "ETHNIC      float64\n",
       "HHLARGE     float64\n",
       "HVAL150     float64\n",
       "INCOME      float64\n",
       "SSTRDIST    float64\n",
       "SSTRVOL     float64\n",
       "STORE         int64\n",
       "WORKWOM     float64\n",
       "deal          int64\n",
       "feat        float64\n",
       "logmove     float64\n",
       "profit      float64\n",
       "store         int64\n",
       "week          int64\n",
       "price       float64\n",
       "brand        string\n",
       "size          int64\n",
       "dtype: object"
      ]
     },
     "execution_count": 84,
     "metadata": {},
     "output_type": "execute_result"
    }
   ],
   "source": [
    "df.dtypes"
   ]
  },
  {
   "cell_type": "code",
   "execution_count": 85,
   "id": "07cff74f",
   "metadata": {},
   "outputs": [
    {
     "data": {
      "text/html": [
       "<div>\n",
       "<style scoped>\n",
       "    .dataframe tbody tr th:only-of-type {\n",
       "        vertical-align: middle;\n",
       "    }\n",
       "\n",
       "    .dataframe tbody tr th {\n",
       "        vertical-align: top;\n",
       "    }\n",
       "\n",
       "    .dataframe thead th {\n",
       "        text-align: right;\n",
       "    }\n",
       "</style>\n",
       "<table border=\"1\" class=\"dataframe\">\n",
       "  <thead>\n",
       "    <tr style=\"text-align: right;\">\n",
       "      <th></th>\n",
       "      <th>AGE60</th>\n",
       "      <th>CPDIST5</th>\n",
       "      <th>CPWVOL5</th>\n",
       "      <th>EDUC</th>\n",
       "      <th>ETHNIC</th>\n",
       "      <th>HHLARGE</th>\n",
       "      <th>HVAL150</th>\n",
       "      <th>INCOME</th>\n",
       "      <th>SSTRDIST</th>\n",
       "      <th>SSTRVOL</th>\n",
       "      <th>STORE</th>\n",
       "      <th>WORKWOM</th>\n",
       "      <th>deal</th>\n",
       "      <th>feat</th>\n",
       "      <th>logmove</th>\n",
       "      <th>profit</th>\n",
       "      <th>store</th>\n",
       "      <th>week</th>\n",
       "      <th>price</th>\n",
       "      <th>size</th>\n",
       "    </tr>\n",
       "  </thead>\n",
       "  <tbody>\n",
       "    <tr>\n",
       "      <th>count</th>\n",
       "      <td>1.167529e+06</td>\n",
       "      <td>1.167529e+06</td>\n",
       "      <td>1.167529e+06</td>\n",
       "      <td>1.167529e+06</td>\n",
       "      <td>1.167529e+06</td>\n",
       "      <td>1.167529e+06</td>\n",
       "      <td>1.167529e+06</td>\n",
       "      <td>1.167529e+06</td>\n",
       "      <td>1.167529e+06</td>\n",
       "      <td>1.167529e+06</td>\n",
       "      <td>1.167529e+06</td>\n",
       "      <td>1.167529e+06</td>\n",
       "      <td>1.167529e+06</td>\n",
       "      <td>1.167529e+06</td>\n",
       "      <td>1.167529e+06</td>\n",
       "      <td>1.167529e+06</td>\n",
       "      <td>1.167529e+06</td>\n",
       "      <td>1.167529e+06</td>\n",
       "      <td>1.167529e+06</td>\n",
       "      <td>1.167529e+06</td>\n",
       "    </tr>\n",
       "    <tr>\n",
       "      <th>mean</th>\n",
       "      <td>1.731300e-01</td>\n",
       "      <td>2.120359e+00</td>\n",
       "      <td>4.389143e-01</td>\n",
       "      <td>2.252196e-01</td>\n",
       "      <td>1.555569e-01</td>\n",
       "      <td>1.156024e-01</td>\n",
       "      <td>3.437659e-01</td>\n",
       "      <td>1.061673e+01</td>\n",
       "      <td>5.097274e+00</td>\n",
       "      <td>1.207317e+00</td>\n",
       "      <td>8.088351e+01</td>\n",
       "      <td>3.591779e-01</td>\n",
       "      <td>4.469987e-01</td>\n",
       "      <td>1.840806e-01</td>\n",
       "      <td>8.417476e+00</td>\n",
       "      <td>2.781475e+01</td>\n",
       "      <td>8.088351e+01</td>\n",
       "      <td>1.004599e+02</td>\n",
       "      <td>-3.322046e+00</td>\n",
       "      <td>7.563636e+01</td>\n",
       "    </tr>\n",
       "    <tr>\n",
       "      <th>std</th>\n",
       "      <td>6.187079e-02</td>\n",
       "      <td>7.298154e-01</td>\n",
       "      <td>2.192443e-01</td>\n",
       "      <td>1.099432e-01</td>\n",
       "      <td>1.875777e-01</td>\n",
       "      <td>3.016750e-02</td>\n",
       "      <td>2.390244e-01</td>\n",
       "      <td>2.823089e-01</td>\n",
       "      <td>3.472327e+00</td>\n",
       "      <td>5.265193e-01</td>\n",
       "      <td>3.557591e+01</td>\n",
       "      <td>5.267182e-02</td>\n",
       "      <td>4.971831e-01</td>\n",
       "      <td>3.848602e-01</td>\n",
       "      <td>1.141366e+00</td>\n",
       "      <td>1.128088e+01</td>\n",
       "      <td>3.557591e+01</td>\n",
       "      <td>3.469173e+01</td>\n",
       "      <td>2.507493e-01</td>\n",
       "      <td>2.057039e+01</td>\n",
       "    </tr>\n",
       "    <tr>\n",
       "      <th>min</th>\n",
       "      <td>5.805397e-02</td>\n",
       "      <td>7.725297e-01</td>\n",
       "      <td>9.456175e-02</td>\n",
       "      <td>4.955029e-02</td>\n",
       "      <td>2.424657e-02</td>\n",
       "      <td>1.350636e-02</td>\n",
       "      <td>2.509410e-03</td>\n",
       "      <td>9.867083e+00</td>\n",
       "      <td>1.320968e-01</td>\n",
       "      <td>4.000000e-01</td>\n",
       "      <td>2.000000e+00</td>\n",
       "      <td>2.444627e-01</td>\n",
       "      <td>0.000000e+00</td>\n",
       "      <td>0.000000e+00</td>\n",
       "      <td>4.158883e+00</td>\n",
       "      <td>0.000000e+00</td>\n",
       "      <td>2.000000e+00</td>\n",
       "      <td>4.000000e+01</td>\n",
       "      <td>-4.812810e+00</td>\n",
       "      <td>6.400000e+01</td>\n",
       "    </tr>\n",
       "    <tr>\n",
       "      <th>25%</th>\n",
       "      <td>1.221000e-01</td>\n",
       "      <td>1.626192e+00</td>\n",
       "      <td>2.716730e-01</td>\n",
       "      <td>1.459849e-01</td>\n",
       "      <td>4.191024e-02</td>\n",
       "      <td>9.793763e-02</td>\n",
       "      <td>1.234857e-01</td>\n",
       "      <td>1.045608e+01</td>\n",
       "      <td>2.767046e+00</td>\n",
       "      <td>7.272727e-01</td>\n",
       "      <td>5.300000e+01</td>\n",
       "      <td>3.126357e-01</td>\n",
       "      <td>0.000000e+00</td>\n",
       "      <td>0.000000e+00</td>\n",
       "      <td>7.699842e+00</td>\n",
       "      <td>2.048600e+01</td>\n",
       "      <td>5.300000e+01</td>\n",
       "      <td>7.000000e+01</td>\n",
       "      <td>-3.470748e+00</td>\n",
       "      <td>6.400000e+01</td>\n",
       "    </tr>\n",
       "    <tr>\n",
       "      <th>50%</th>\n",
       "      <td>1.706548e-01</td>\n",
       "      <td>1.963412e+00</td>\n",
       "      <td>3.832268e-01</td>\n",
       "      <td>2.293904e-01</td>\n",
       "      <td>7.465643e-02</td>\n",
       "      <td>1.112212e-01</td>\n",
       "      <td>3.461538e-01</td>\n",
       "      <td>1.063533e+01</td>\n",
       "      <td>4.650687e+00</td>\n",
       "      <td>1.115385e+00</td>\n",
       "      <td>8.600000e+01</td>\n",
       "      <td>3.556351e-01</td>\n",
       "      <td>0.000000e+00</td>\n",
       "      <td>0.000000e+00</td>\n",
       "      <td>8.392990e+00</td>\n",
       "      <td>2.909000e+01</td>\n",
       "      <td>8.600000e+01</td>\n",
       "      <td>1.010000e+02</td>\n",
       "      <td>-3.287590e+00</td>\n",
       "      <td>6.400000e+01</td>\n",
       "    </tr>\n",
       "    <tr>\n",
       "      <th>75%</th>\n",
       "      <td>2.139493e-01</td>\n",
       "      <td>2.533672e+00</td>\n",
       "      <td>5.602403e-01</td>\n",
       "      <td>2.843947e-01</td>\n",
       "      <td>1.877609e-01</td>\n",
       "      <td>1.351677e-01</td>\n",
       "      <td>5.283129e-01</td>\n",
       "      <td>1.079696e+01</td>\n",
       "      <td>6.650602e+00</td>\n",
       "      <td>1.538462e+00</td>\n",
       "      <td>1.110000e+02</td>\n",
       "      <td>4.023132e-01</td>\n",
       "      <td>1.000000e+00</td>\n",
       "      <td>0.000000e+00</td>\n",
       "      <td>9.049232e+00</td>\n",
       "      <td>3.480263e+01</td>\n",
       "      <td>1.110000e+02</td>\n",
       "      <td>1.300000e+02</td>\n",
       "      <td>-3.132841e+00</td>\n",
       "      <td>9.600000e+01</td>\n",
       "    </tr>\n",
       "    <tr>\n",
       "      <th>max</th>\n",
       "      <td>3.073979e-01</td>\n",
       "      <td>4.107902e+00</td>\n",
       "      <td>1.143367e+00</td>\n",
       "      <td>5.283620e-01</td>\n",
       "      <td>9.956908e-01</td>\n",
       "      <td>2.163543e-01</td>\n",
       "      <td>9.166995e-01</td>\n",
       "      <td>1.123620e+01</td>\n",
       "      <td>1.785595e+01</td>\n",
       "      <td>2.571429e+00</td>\n",
       "      <td>1.370000e+02</td>\n",
       "      <td>4.723083e-01</td>\n",
       "      <td>1.000000e+00</td>\n",
       "      <td>1.000000e+00</td>\n",
       "      <td>1.348202e+01</td>\n",
       "      <td>9.851000e+01</td>\n",
       "      <td>1.370000e+02</td>\n",
       "      <td>1.600000e+02</td>\n",
       "      <td>-2.802844e+00</td>\n",
       "      <td>1.280000e+02</td>\n",
       "    </tr>\n",
       "  </tbody>\n",
       "</table>\n",
       "</div>"
      ],
      "text/plain": [
       "              AGE60       CPDIST5       CPWVOL5          EDUC        ETHNIC  \\\n",
       "count  1.167529e+06  1.167529e+06  1.167529e+06  1.167529e+06  1.167529e+06   \n",
       "mean   1.731300e-01  2.120359e+00  4.389143e-01  2.252196e-01  1.555569e-01   \n",
       "std    6.187079e-02  7.298154e-01  2.192443e-01  1.099432e-01  1.875777e-01   \n",
       "min    5.805397e-02  7.725297e-01  9.456175e-02  4.955029e-02  2.424657e-02   \n",
       "25%    1.221000e-01  1.626192e+00  2.716730e-01  1.459849e-01  4.191024e-02   \n",
       "50%    1.706548e-01  1.963412e+00  3.832268e-01  2.293904e-01  7.465643e-02   \n",
       "75%    2.139493e-01  2.533672e+00  5.602403e-01  2.843947e-01  1.877609e-01   \n",
       "max    3.073979e-01  4.107902e+00  1.143367e+00  5.283620e-01  9.956908e-01   \n",
       "\n",
       "            HHLARGE       HVAL150        INCOME      SSTRDIST       SSTRVOL  \\\n",
       "count  1.167529e+06  1.167529e+06  1.167529e+06  1.167529e+06  1.167529e+06   \n",
       "mean   1.156024e-01  3.437659e-01  1.061673e+01  5.097274e+00  1.207317e+00   \n",
       "std    3.016750e-02  2.390244e-01  2.823089e-01  3.472327e+00  5.265193e-01   \n",
       "min    1.350636e-02  2.509410e-03  9.867083e+00  1.320968e-01  4.000000e-01   \n",
       "25%    9.793763e-02  1.234857e-01  1.045608e+01  2.767046e+00  7.272727e-01   \n",
       "50%    1.112212e-01  3.461538e-01  1.063533e+01  4.650687e+00  1.115385e+00   \n",
       "75%    1.351677e-01  5.283129e-01  1.079696e+01  6.650602e+00  1.538462e+00   \n",
       "max    2.163543e-01  9.166995e-01  1.123620e+01  1.785595e+01  2.571429e+00   \n",
       "\n",
       "              STORE       WORKWOM          deal          feat       logmove  \\\n",
       "count  1.167529e+06  1.167529e+06  1.167529e+06  1.167529e+06  1.167529e+06   \n",
       "mean   8.088351e+01  3.591779e-01  4.469987e-01  1.840806e-01  8.417476e+00   \n",
       "std    3.557591e+01  5.267182e-02  4.971831e-01  3.848602e-01  1.141366e+00   \n",
       "min    2.000000e+00  2.444627e-01  0.000000e+00  0.000000e+00  4.158883e+00   \n",
       "25%    5.300000e+01  3.126357e-01  0.000000e+00  0.000000e+00  7.699842e+00   \n",
       "50%    8.600000e+01  3.556351e-01  0.000000e+00  0.000000e+00  8.392990e+00   \n",
       "75%    1.110000e+02  4.023132e-01  1.000000e+00  0.000000e+00  9.049232e+00   \n",
       "max    1.370000e+02  4.723083e-01  1.000000e+00  1.000000e+00  1.348202e+01   \n",
       "\n",
       "             profit         store          week         price          size  \n",
       "count  1.167529e+06  1.167529e+06  1.167529e+06  1.167529e+06  1.167529e+06  \n",
       "mean   2.781475e+01  8.088351e+01  1.004599e+02 -3.322046e+00  7.563636e+01  \n",
       "std    1.128088e+01  3.557591e+01  3.469173e+01  2.507493e-01  2.057039e+01  \n",
       "min    0.000000e+00  2.000000e+00  4.000000e+01 -4.812810e+00  6.400000e+01  \n",
       "25%    2.048600e+01  5.300000e+01  7.000000e+01 -3.470748e+00  6.400000e+01  \n",
       "50%    2.909000e+01  8.600000e+01  1.010000e+02 -3.287590e+00  6.400000e+01  \n",
       "75%    3.480263e+01  1.110000e+02  1.300000e+02 -3.132841e+00  9.600000e+01  \n",
       "max    9.851000e+01  1.370000e+02  1.600000e+02 -2.802844e+00  1.280000e+02  "
      ]
     },
     "execution_count": 85,
     "metadata": {},
     "output_type": "execute_result"
    }
   ],
   "source": [
    "df.describe()"
   ]
  },
  {
   "cell_type": "markdown",
   "id": "15b0db08",
   "metadata": {},
   "source": [
    "## Exploratory Analysis"
   ]
  },
  {
   "cell_type": "code",
   "execution_count": 116,
   "id": "e8bdfaaf",
   "metadata": {
    "scrolled": true
   },
   "outputs": [
    {
     "data": {
      "text/plain": [
       "Text(0.5, 1.0, 'Total Profit per Brand')"
      ]
     },
     "execution_count": 116,
     "metadata": {},
     "output_type": "execute_result"
    },
    {
     "data": {
      "image/png": "[encoded data removed]",
      "text/plain": [
       "<Figure size 2880x1800 with 2 Axes>"
      ]
     },
     "metadata": {
      "needs_background": "light"
     },
     "output_type": "display_data"
    }
   ],
   "source": [
    "# Quantity per month\n",
    "temp_data = df.groupby(['brand']).sum().reset_index()\n",
    "fig, axes = plt.subplots(2, 1, figsize = (40,25))\n",
    "\n",
    "sns.barplot(x='brand', y='profit', data=temp_data, ax=axes[0])\n",
    "axes[0].set_xlabel(axes[0].get_xlabel(), size=30)\n",
    "axes[0].set_ylabel(axes[0].get_ylabel(), size=30)\n",
    "axes[0].set_xticklabels(axes[0].get_xticklabels(), size=30)\n",
    "axes[0].bar_label(axes[0].containers[0], fmt='%.2f', size=25)\n",
    "axes[0].set_title('Total Profit per Brand', size= 40)\n",
    "\n",
    "sns.barplot(x='brand', y='logmove', data=temp_data, ax=axes[1])\n",
    "axes[1].set_xlabel(axes[1].get_xlabel(), size=30)\n",
    "axes[1].set_ylabel(axes[1].get_ylabel(), size=30)\n",
    "axes[1].set_xticklabels(axes[1].get_xticklabels(), size=30)\n",
    "axes[1].bar_label(axes[1].containers[0], fmt='%.2f', size=25)\n",
    "axes[1].set_title('Total Quantity Sold per Brand', size= 40)"
   ]
  },
  {
   "cell_type": "markdown",
   "id": "82769fcf",
   "metadata": {},
   "source": [
    "#### What brand is sold the most?"
   ]
  },
  {
   "cell_type": "code",
   "execution_count": 87,
   "id": "a833eef5",
   "metadata": {},
   "outputs": [
    {
     "data": {
      "text/plain": [
       "(8, 3)"
      ]
     },
     "execution_count": 87,
     "metadata": {},
     "output_type": "execute_result"
    }
   ],
   "source": [
    "mock_data = pd.DataFrame({'week': [1,2],'brand': ['A', 'B'], 'logmove': [3, 4], 'profit':[4,8]})\n",
    "mock_data.describe().shape"
   ]
  },
  {
   "cell_type": "code",
   "execution_count": 88,
   "id": "7ffad873",
   "metadata": {
    "scrolled": true
   },
   "outputs": [
    {
     "data": {
      "text/html": [
       "<div>\n",
       "<style scoped>\n",
       "    .dataframe tbody tr th:only-of-type {\n",
       "        vertical-align: middle;\n",
       "    }\n",
       "\n",
       "    .dataframe tbody tr th {\n",
       "        vertical-align: top;\n",
       "    }\n",
       "\n",
       "    .dataframe thead th {\n",
       "        text-align: right;\n",
       "    }\n",
       "</style>\n",
       "<table border=\"1\" class=\"dataframe\">\n",
       "  <thead>\n",
       "    <tr style=\"text-align: right;\">\n",
       "      <th></th>\n",
       "      <th>logmove</th>\n",
       "      <th>profit</th>\n",
       "    </tr>\n",
       "    <tr>\n",
       "      <th>brand</th>\n",
       "      <th></th>\n",
       "      <th></th>\n",
       "    </tr>\n",
       "  </thead>\n",
       "  <tbody>\n",
       "    <tr>\n",
       "      <th>Tropicana</th>\n",
       "      <td>2.839746e+06</td>\n",
       "      <td>8.785211e+06</td>\n",
       "    </tr>\n",
       "    <tr>\n",
       "      <th>Dominicks</th>\n",
       "      <td>1.908864e+06</td>\n",
       "      <td>6.160203e+06</td>\n",
       "    </tr>\n",
       "    <tr>\n",
       "      <th>Minute_maid</th>\n",
       "      <td>1.858234e+06</td>\n",
       "      <td>5.367385e+06</td>\n",
       "    </tr>\n",
       "    <tr>\n",
       "      <th>Citrus_hill</th>\n",
       "      <td>8.505525e+05</td>\n",
       "      <td>2.575158e+06</td>\n",
       "    </tr>\n",
       "    <tr>\n",
       "      <th>Florida_natural</th>\n",
       "      <td>8.119214e+05</td>\n",
       "      <td>3.415508e+06</td>\n",
       "    </tr>\n",
       "    <tr>\n",
       "      <th>Tree_fresh</th>\n",
       "      <td>8.001189e+05</td>\n",
       "      <td>3.232595e+06</td>\n",
       "    </tr>\n",
       "    <tr>\n",
       "      <th>Florida_gold</th>\n",
       "      <td>7.582106e+05</td>\n",
       "      <td>2.938462e+06</td>\n",
       "    </tr>\n",
       "  </tbody>\n",
       "</table>\n",
       "</div>"
      ],
      "text/plain": [
       "                      logmove        profit\n",
       "brand                                      \n",
       "Tropicana        2.839746e+06  8.785211e+06\n",
       "Dominicks        1.908864e+06  6.160203e+06\n",
       "Minute_maid      1.858234e+06  5.367385e+06\n",
       "Citrus_hill      8.505525e+05  2.575158e+06\n",
       "Florida_natural  8.119214e+05  3.415508e+06\n",
       "Tree_fresh       8.001189e+05  3.232595e+06\n",
       "Florida_gold     7.582106e+05  2.938462e+06"
      ]
     },
     "execution_count": 88,
     "metadata": {},
     "output_type": "execute_result"
    }
   ],
   "source": [
    "df.groupby('brand').sum()[['logmove', 'profit']].sort_values('logmove', ascending=False)"
   ]
  },
  {
   "cell_type": "code",
   "execution_count": 89,
   "id": "ae72c446",
   "metadata": {},
   "outputs": [
    {
     "data": {
      "text/html": [
       "<div>\n",
       "<style scoped>\n",
       "    .dataframe tbody tr th:only-of-type {\n",
       "        vertical-align: middle;\n",
       "    }\n",
       "\n",
       "    .dataframe tbody tr th {\n",
       "        vertical-align: top;\n",
       "    }\n",
       "\n",
       "    .dataframe thead th {\n",
       "        text-align: right;\n",
       "    }\n",
       "</style>\n",
       "<table border=\"1\" class=\"dataframe\">\n",
       "  <thead>\n",
       "    <tr style=\"text-align: right;\">\n",
       "      <th></th>\n",
       "      <th>logmove</th>\n",
       "      <th>profit</th>\n",
       "    </tr>\n",
       "    <tr>\n",
       "      <th>brand</th>\n",
       "      <th></th>\n",
       "      <th></th>\n",
       "    </tr>\n",
       "  </thead>\n",
       "  <tbody>\n",
       "    <tr>\n",
       "      <th>Tropicana</th>\n",
       "      <td>2.839746e+06</td>\n",
       "      <td>8.785211e+06</td>\n",
       "    </tr>\n",
       "    <tr>\n",
       "      <th>Dominicks</th>\n",
       "      <td>1.908864e+06</td>\n",
       "      <td>6.160203e+06</td>\n",
       "    </tr>\n",
       "    <tr>\n",
       "      <th>Minute_maid</th>\n",
       "      <td>1.858234e+06</td>\n",
       "      <td>5.367385e+06</td>\n",
       "    </tr>\n",
       "    <tr>\n",
       "      <th>Citrus_hill</th>\n",
       "      <td>8.505525e+05</td>\n",
       "      <td>2.575158e+06</td>\n",
       "    </tr>\n",
       "    <tr>\n",
       "      <th>Florida_natural</th>\n",
       "      <td>8.119214e+05</td>\n",
       "      <td>3.415508e+06</td>\n",
       "    </tr>\n",
       "    <tr>\n",
       "      <th>Tree_fresh</th>\n",
       "      <td>8.001189e+05</td>\n",
       "      <td>3.232595e+06</td>\n",
       "    </tr>\n",
       "    <tr>\n",
       "      <th>Florida_gold</th>\n",
       "      <td>7.582106e+05</td>\n",
       "      <td>2.938462e+06</td>\n",
       "    </tr>\n",
       "  </tbody>\n",
       "</table>\n",
       "</div>"
      ],
      "text/plain": [
       "                      logmove        profit\n",
       "brand                                      \n",
       "Tropicana        2.839746e+06  8.785211e+06\n",
       "Dominicks        1.908864e+06  6.160203e+06\n",
       "Minute_maid      1.858234e+06  5.367385e+06\n",
       "Citrus_hill      8.505525e+05  2.575158e+06\n",
       "Florida_natural  8.119214e+05  3.415508e+06\n",
       "Tree_fresh       8.001189e+05  3.232595e+06\n",
       "Florida_gold     7.582106e+05  2.938462e+06"
      ]
     },
     "execution_count": 89,
     "metadata": {},
     "output_type": "execute_result"
    }
   ],
   "source": [
    "df.groupby('brand').sum()[['logmove', 'profit']].sort_values('logmove', ascending=False)"
   ]
  },
  {
   "cell_type": "markdown",
   "id": "d289bbb6",
   "metadata": {},
   "source": [
    "In terms of quantities sold, Tropicana is sold most. Tropicana also had the largest profit. "
   ]
  },
  {
   "cell_type": "markdown",
   "id": "0ea2ac0a",
   "metadata": {},
   "source": [
    "#### Timeseries of sales"
   ]
  },
  {
   "cell_type": "code",
   "execution_count": 127,
   "id": "1e84f94c",
   "metadata": {
    "scrolled": true
   },
   "outputs": [
    {
     "data": {
      "image/png": "[encoded data removed]",
      "text/plain": [
       "<Figure size 432x288 with 1 Axes>"
      ]
     },
     "metadata": {
      "needs_background": "light"
     },
     "output_type": "display_data"
    },
    {
     "data": {
      "image/png": "[encoded data removed]",
      "text/plain": [
       "<Figure size 432x288 with 2 Axes>"
      ]
     },
     "metadata": {
      "needs_background": "light"
     },
     "output_type": "display_data"
    }
   ],
   "source": [
    "q_series=df.groupby('week').sum()[['logmove']]\n",
    "q_series.plot(color='blue', grid=True)\n",
    "plt.title(\"Sales over time\")\n",
    "\n",
    "p_series = df.groupby('week').sum()[['profit']]\n",
    "p_series.plot(color='red',grid=True, secondary_y=True)\n",
    "plt.show()"
   ]
  },
  {
   "cell_type": "markdown",
   "id": "fd7725c6",
   "metadata": {},
   "source": [
    "Week 120 - 140 is interesting because the quantity sold was at the peak, but the profit  was at the lowest. It could be that there were lots of sales during this period. Since orange juice is perishable good, the most likely scenario is that the stores expected the sales to increase and ordered lots of orange juice, but did not sell as much as expected. There could had been a frequent sales to move inventory."
   ]
  },
  {
   "cell_type": "code",
   "execution_count": 91,
   "id": "a3693485",
   "metadata": {
    "scrolled": true
   },
   "outputs": [
    {
     "data": {
      "text/plain": [
       "0.44404800146849616"
      ]
     },
     "execution_count": 91,
     "metadata": {},
     "output_type": "execute_result"
    }
   ],
   "source": [
    "df[(df['week'] < 120) | (df['week'] > 140)].deal.mean()"
   ]
  },
  {
   "cell_type": "code",
   "execution_count": 92,
   "id": "fd888570",
   "metadata": {},
   "outputs": [
    {
     "data": {
      "text/plain": [
       "0.4599067599067599"
      ]
     },
     "execution_count": 92,
     "metadata": {},
     "output_type": "execute_result"
    }
   ],
   "source": [
    "df[(df['week'] > 120) & (df['week'] < 140)].deal.mean()"
   ]
  },
  {
   "cell_type": "code",
   "execution_count": 93,
   "id": "4163211a",
   "metadata": {},
   "outputs": [
    {
     "data": {
      "text/plain": [
       "-3.310424451294298"
      ]
     },
     "execution_count": 93,
     "metadata": {},
     "output_type": "execute_result"
    }
   ],
   "source": [
    "df[(df['week'] < 120) | (df['week'] > 140)].price.mean()"
   ]
  },
  {
   "cell_type": "code",
   "execution_count": 94,
   "id": "fec65191",
   "metadata": {
    "scrolled": false
   },
   "outputs": [
    {
     "data": {
      "text/plain": [
       "-3.3774637451224674"
      ]
     },
     "execution_count": 94,
     "metadata": {},
     "output_type": "execute_result"
    }
   ],
   "source": [
    "df[(df['week'] > 120) & (df['week'] < 140)].price.mean()"
   ]
  },
  {
   "cell_type": "markdown",
   "id": "4e3bd82d",
   "metadata": {},
   "source": [
    "The frequency of deal is similar, but the average price between week 120-140 is lower than the average in other weeks."
   ]
  },
  {
   "cell_type": "markdown",
   "id": "ff693623",
   "metadata": {},
   "source": [
    "# Models\n",
    "\n",
    "I am doing causual inference, so I will use two models, OLS and Double ML using Random Forest learner. I only split data into test and train to see how well models do. Both models are not cross validated because OLS does not need hyperparameter selection and Random Forest already uses bagging to adjust trees. "
   ]
  },
  {
   "cell_type": "markdown",
   "id": "41021e18",
   "metadata": {},
   "source": [
    "##### OLS\n",
    "OLS cannot be computed for categorical variables, so I hard-encoded the brand category into dummy variables."
   ]
  },
  {
   "cell_type": "code",
   "execution_count": 95,
   "id": "c2dc40d3",
   "metadata": {
    "scrolled": true
   },
   "outputs": [
    {
     "data": {
      "text/html": [
       "<div>\n",
       "<style scoped>\n",
       "    .dataframe tbody tr th:only-of-type {\n",
       "        vertical-align: middle;\n",
       "    }\n",
       "\n",
       "    .dataframe tbody tr th {\n",
       "        vertical-align: top;\n",
       "    }\n",
       "\n",
       "    .dataframe thead th {\n",
       "        text-align: right;\n",
       "    }\n",
       "</style>\n",
       "<table border=\"1\" class=\"dataframe\">\n",
       "  <thead>\n",
       "    <tr style=\"text-align: right;\">\n",
       "      <th></th>\n",
       "      <th>Citrus_hill</th>\n",
       "      <th>Dominicks</th>\n",
       "      <th>Florida_gold</th>\n",
       "      <th>Florida_natural</th>\n",
       "      <th>Minute_maid</th>\n",
       "      <th>Tree_fresh</th>\n",
       "      <th>Tropicana</th>\n",
       "    </tr>\n",
       "  </thead>\n",
       "  <tbody>\n",
       "    <tr>\n",
       "      <th>0</th>\n",
       "      <td>0</td>\n",
       "      <td>0</td>\n",
       "      <td>0</td>\n",
       "      <td>0</td>\n",
       "      <td>0</td>\n",
       "      <td>0</td>\n",
       "      <td>1</td>\n",
       "    </tr>\n",
       "    <tr>\n",
       "      <th>1</th>\n",
       "      <td>0</td>\n",
       "      <td>0</td>\n",
       "      <td>0</td>\n",
       "      <td>0</td>\n",
       "      <td>0</td>\n",
       "      <td>0</td>\n",
       "      <td>1</td>\n",
       "    </tr>\n",
       "    <tr>\n",
       "      <th>2</th>\n",
       "      <td>0</td>\n",
       "      <td>0</td>\n",
       "      <td>0</td>\n",
       "      <td>0</td>\n",
       "      <td>0</td>\n",
       "      <td>0</td>\n",
       "      <td>1</td>\n",
       "    </tr>\n",
       "    <tr>\n",
       "      <th>3</th>\n",
       "      <td>0</td>\n",
       "      <td>0</td>\n",
       "      <td>0</td>\n",
       "      <td>0</td>\n",
       "      <td>0</td>\n",
       "      <td>0</td>\n",
       "      <td>1</td>\n",
       "    </tr>\n",
       "    <tr>\n",
       "      <th>4</th>\n",
       "      <td>0</td>\n",
       "      <td>0</td>\n",
       "      <td>0</td>\n",
       "      <td>0</td>\n",
       "      <td>0</td>\n",
       "      <td>0</td>\n",
       "      <td>1</td>\n",
       "    </tr>\n",
       "  </tbody>\n",
       "</table>\n",
       "</div>"
      ],
      "text/plain": [
       "   Citrus_hill  Dominicks  Florida_gold  Florida_natural  Minute_maid  \\\n",
       "0            0          0             0                0            0   \n",
       "1            0          0             0                0            0   \n",
       "2            0          0             0                0            0   \n",
       "3            0          0             0                0            0   \n",
       "4            0          0             0                0            0   \n",
       "\n",
       "   Tree_fresh  Tropicana  \n",
       "0           0          1  \n",
       "1           0          1  \n",
       "2           0          1  \n",
       "3           0          1  \n",
       "4           0          1  "
      ]
     },
     "execution_count": 95,
     "metadata": {},
     "output_type": "execute_result"
    }
   ],
   "source": [
    "df1 = df.copy()\n",
    "  \n",
    "# creating an object \n",
    "# of the LabelBinarizer\n",
    "label_binarizer = LabelBinarizer()\n",
    "  \n",
    "# fitting the column \n",
    "# TEMPERATURE to LabelBinarizer\n",
    "label_binarizer_output = label_binarizer.fit_transform(df1['brand'])\n",
    "  \n",
    "# creating a data frame from the object\n",
    "dummy_brand = pd.DataFrame(label_binarizer_output,\n",
    "                         columns = label_binarizer.classes_)\n",
    "  \n",
    "dummy_brand.head()"
   ]
  },
  {
   "cell_type": "code",
   "execution_count": 98,
   "id": "e268c254",
   "metadata": {
    "scrolled": true
   },
   "outputs": [
    {
     "data": {
      "text/html": [
       "<div>\n",
       "<style scoped>\n",
       "    .dataframe tbody tr th:only-of-type {\n",
       "        vertical-align: middle;\n",
       "    }\n",
       "\n",
       "    .dataframe tbody tr th {\n",
       "        vertical-align: top;\n",
       "    }\n",
       "\n",
       "    .dataframe thead th {\n",
       "        text-align: right;\n",
       "    }\n",
       "</style>\n",
       "<table border=\"1\" class=\"dataframe\">\n",
       "  <thead>\n",
       "    <tr style=\"text-align: right;\">\n",
       "      <th></th>\n",
       "      <th>AGE60</th>\n",
       "      <th>CPDIST5</th>\n",
       "      <th>CPWVOL5</th>\n",
       "      <th>EDUC</th>\n",
       "      <th>ETHNIC</th>\n",
       "      <th>HHLARGE</th>\n",
       "      <th>HVAL150</th>\n",
       "      <th>INCOME</th>\n",
       "      <th>SSTRDIST</th>\n",
       "      <th>SSTRVOL</th>\n",
       "      <th>...</th>\n",
       "      <th>week</th>\n",
       "      <th>price</th>\n",
       "      <th>size</th>\n",
       "      <th>Citrus_hill</th>\n",
       "      <th>Dominicks</th>\n",
       "      <th>Florida_gold</th>\n",
       "      <th>Florida_natural</th>\n",
       "      <th>Minute_maid</th>\n",
       "      <th>Tree_fresh</th>\n",
       "      <th>Tropicana</th>\n",
       "    </tr>\n",
       "  </thead>\n",
       "  <tbody>\n",
       "    <tr>\n",
       "      <th>0</th>\n",
       "      <td>0.232865</td>\n",
       "      <td>1.92728</td>\n",
       "      <td>0.376927</td>\n",
       "      <td>0.248935</td>\n",
       "      <td>0.11428</td>\n",
       "      <td>0.103953</td>\n",
       "      <td>0.463887</td>\n",
       "      <td>10.553205</td>\n",
       "      <td>2.110122</td>\n",
       "      <td>1.142857</td>\n",
       "      <td>...</td>\n",
       "      <td>40</td>\n",
       "      <td>-2.805629</td>\n",
       "      <td>64</td>\n",
       "      <td>0</td>\n",
       "      <td>0</td>\n",
       "      <td>0</td>\n",
       "      <td>0</td>\n",
       "      <td>0</td>\n",
       "      <td>0</td>\n",
       "      <td>1</td>\n",
       "    </tr>\n",
       "    <tr>\n",
       "      <th>1</th>\n",
       "      <td>0.232865</td>\n",
       "      <td>1.92728</td>\n",
       "      <td>0.376927</td>\n",
       "      <td>0.248935</td>\n",
       "      <td>0.11428</td>\n",
       "      <td>0.103953</td>\n",
       "      <td>0.463887</td>\n",
       "      <td>10.553205</td>\n",
       "      <td>2.110122</td>\n",
       "      <td>1.142857</td>\n",
       "      <td>...</td>\n",
       "      <td>46</td>\n",
       "      <td>-2.805629</td>\n",
       "      <td>64</td>\n",
       "      <td>0</td>\n",
       "      <td>0</td>\n",
       "      <td>0</td>\n",
       "      <td>0</td>\n",
       "      <td>0</td>\n",
       "      <td>0</td>\n",
       "      <td>1</td>\n",
       "    </tr>\n",
       "    <tr>\n",
       "      <th>2</th>\n",
       "      <td>0.232865</td>\n",
       "      <td>1.92728</td>\n",
       "      <td>0.376927</td>\n",
       "      <td>0.248935</td>\n",
       "      <td>0.11428</td>\n",
       "      <td>0.103953</td>\n",
       "      <td>0.463887</td>\n",
       "      <td>10.553205</td>\n",
       "      <td>2.110122</td>\n",
       "      <td>1.142857</td>\n",
       "      <td>...</td>\n",
       "      <td>47</td>\n",
       "      <td>-2.805629</td>\n",
       "      <td>64</td>\n",
       "      <td>0</td>\n",
       "      <td>0</td>\n",
       "      <td>0</td>\n",
       "      <td>0</td>\n",
       "      <td>0</td>\n",
       "      <td>0</td>\n",
       "      <td>1</td>\n",
       "    </tr>\n",
       "    <tr>\n",
       "      <th>3</th>\n",
       "      <td>0.232865</td>\n",
       "      <td>1.92728</td>\n",
       "      <td>0.376927</td>\n",
       "      <td>0.248935</td>\n",
       "      <td>0.11428</td>\n",
       "      <td>0.103953</td>\n",
       "      <td>0.463887</td>\n",
       "      <td>10.553205</td>\n",
       "      <td>2.110122</td>\n",
       "      <td>1.142857</td>\n",
       "      <td>...</td>\n",
       "      <td>48</td>\n",
       "      <td>-2.805629</td>\n",
       "      <td>64</td>\n",
       "      <td>0</td>\n",
       "      <td>0</td>\n",
       "      <td>0</td>\n",
       "      <td>0</td>\n",
       "      <td>0</td>\n",
       "      <td>0</td>\n",
       "      <td>1</td>\n",
       "    </tr>\n",
       "    <tr>\n",
       "      <th>4</th>\n",
       "      <td>0.232865</td>\n",
       "      <td>1.92728</td>\n",
       "      <td>0.376927</td>\n",
       "      <td>0.248935</td>\n",
       "      <td>0.11428</td>\n",
       "      <td>0.103953</td>\n",
       "      <td>0.463887</td>\n",
       "      <td>10.553205</td>\n",
       "      <td>2.110122</td>\n",
       "      <td>1.142857</td>\n",
       "      <td>...</td>\n",
       "      <td>50</td>\n",
       "      <td>-2.805629</td>\n",
       "      <td>64</td>\n",
       "      <td>0</td>\n",
       "      <td>0</td>\n",
       "      <td>0</td>\n",
       "      <td>0</td>\n",
       "      <td>0</td>\n",
       "      <td>0</td>\n",
       "      <td>1</td>\n",
       "    </tr>\n",
       "  </tbody>\n",
       "</table>\n",
       "<p>5 rows × 27 columns</p>\n",
       "</div>"
      ],
      "text/plain": [
       "      AGE60  CPDIST5   CPWVOL5      EDUC   ETHNIC   HHLARGE   HVAL150  \\\n",
       "0  0.232865  1.92728  0.376927  0.248935  0.11428  0.103953  0.463887   \n",
       "1  0.232865  1.92728  0.376927  0.248935  0.11428  0.103953  0.463887   \n",
       "2  0.232865  1.92728  0.376927  0.248935  0.11428  0.103953  0.463887   \n",
       "3  0.232865  1.92728  0.376927  0.248935  0.11428  0.103953  0.463887   \n",
       "4  0.232865  1.92728  0.376927  0.248935  0.11428  0.103953  0.463887   \n",
       "\n",
       "      INCOME  SSTRDIST   SSTRVOL  ...  week     price  size  Citrus_hill  \\\n",
       "0  10.553205  2.110122  1.142857  ...    40 -2.805629    64            0   \n",
       "1  10.553205  2.110122  1.142857  ...    46 -2.805629    64            0   \n",
       "2  10.553205  2.110122  1.142857  ...    47 -2.805629    64            0   \n",
       "3  10.553205  2.110122  1.142857  ...    48 -2.805629    64            0   \n",
       "4  10.553205  2.110122  1.142857  ...    50 -2.805629    64            0   \n",
       "\n",
       "   Dominicks  Florida_gold  Florida_natural  Minute_maid  Tree_fresh  \\\n",
       "0          0             0                0            0           0   \n",
       "1          0             0                0            0           0   \n",
       "2          0             0                0            0           0   \n",
       "3          0             0                0            0           0   \n",
       "4          0             0                0            0           0   \n",
       "\n",
       "   Tropicana  \n",
       "0          1  \n",
       "1          1  \n",
       "2          1  \n",
       "3          1  \n",
       "4          1  \n",
       "\n",
       "[5 rows x 27 columns]"
      ]
     },
     "execution_count": 98,
     "metadata": {},
     "output_type": "execute_result"
    }
   ],
   "source": [
    "model_df = df.join(dummy_brand)\n",
    "model_df = model_df.drop('brand', axis=1)\n",
    "model_df.head()"
   ]
  },
  {
   "cell_type": "code",
   "execution_count": 99,
   "id": "7cd6ebe5",
   "metadata": {},
   "outputs": [],
   "source": [
    "np.random.seed(3141)\n",
    "train, test = train_test_split(model_df, test_size=0.2)"
   ]
  },
  {
   "cell_type": "code",
   "execution_count": 100,
   "id": "9645a423",
   "metadata": {},
   "outputs": [
    {
     "name": "stdout",
     "output_type": "stream",
     "text": [
      "                            OLS Regression Results                            \n",
      "==============================================================================\n",
      "Dep. Variable:                logmove   R-squared:                       0.595\n",
      "Model:                            OLS   Adj. R-squared:                  0.595\n",
      "Method:                 Least Squares   F-statistic:                 5.488e+04\n",
      "Date:                Sat, 10 Dec 2022   Prob (F-statistic):               0.00\n",
      "Time:                        20:20:45   Log-Likelihood:            -1.0268e+06\n",
      "No. Observations:              934023   AIC:                         2.054e+06\n",
      "Df Residuals:                  933997   BIC:                         2.054e+06\n",
      "Df Model:                          25                                         \n",
      "Covariance Type:            nonrobust                                         \n",
      "===================================================================================\n",
      "                      coef    std err          t      P>|t|      [0.025      0.975]\n",
      "-----------------------------------------------------------------------------------\n",
      "Intercept           9.9802      0.057    175.223      0.000       9.869      10.092\n",
      "AGE60               1.2313      0.025     49.357      0.000       1.182       1.280\n",
      "CPDIST5             0.0809      0.001     65.467      0.000       0.078       0.083\n",
      "CPWVOL5            -0.3634      0.005    -68.934      0.000      -0.374      -0.353\n",
      "Citrus_hill         1.1476      0.010    119.354      0.000       1.129       1.166\n",
      "Dominicks           2.4681      0.010    256.520      0.000       2.449       2.487\n",
      "EDUC                0.6446      0.020     32.351      0.000       0.606       0.684\n",
      "ETHNIC              0.6171      0.007     83.968      0.000       0.603       0.631\n",
      "Florida_gold        0.3509      0.010     36.467      0.000       0.332       0.370\n",
      "Florida_natural     1.0038      0.010    104.063      0.000       0.985       1.023\n",
      "HHLARGE            -1.0056      0.045    -22.290      0.000      -1.094      -0.917\n",
      "HVAL150             0.4279      0.008     52.058      0.000       0.412       0.444\n",
      "INCOME             -0.2290      0.007    -35.052      0.000      -0.242      -0.216\n",
      "Minute_maid         1.9398      0.010    203.483      0.000       1.921       1.959\n",
      "SSTRDIST           -0.0190      0.000    -64.865      0.000      -0.020      -0.018\n",
      "SSTRVOL            -0.0918      0.002    -47.719      0.000      -0.096      -0.088\n",
      "STORE            4.241e+08    4.5e+08      0.942      0.346   -4.58e+08    1.31e+09\n",
      "Tree_fresh          0.8777      0.010     91.084      0.000       0.859       0.897\n",
      "Tropicana           2.1618      0.009    228.091      0.000       2.143       2.180\n",
      "WORKWOM            -0.5568      0.029    -19.444      0.000      -0.613      -0.501\n",
      "deal                0.1658      0.002     89.188      0.000       0.162       0.169\n",
      "feat                0.7812      0.002    334.979      0.000       0.777       0.786\n",
      "price              -0.0655      0.003    -21.178      0.000      -0.072      -0.059\n",
      "profit             -0.0286   7.41e-05   -385.750      0.000      -0.029      -0.028\n",
      "size               -0.0081   4.44e-05   -183.198      0.000      -0.008      -0.008\n",
      "store           -4.241e+08    4.5e+08     -0.942      0.346   -1.31e+09    4.58e+08\n",
      "week               -0.0004   2.22e-05    -16.792      0.000      -0.000      -0.000\n",
      "==============================================================================\n",
      "Omnibus:                    56196.914   Durbin-Watson:                   1.996\n",
      "Prob(Omnibus):                  0.000   Jarque-Bera (JB):           213168.767\n",
      "Skew:                           0.194   Prob(JB):                         0.00\n",
      "Kurtosis:                       5.308   Cond. No.                     2.47e+15\n",
      "==============================================================================\n",
      "\n",
      "Notes:\n",
      "[1] Standard Errors assume that the covariance matrix of the errors is correctly specified.\n",
      "[2] The smallest eigenvalue is 4.83e-21. This might indicate that there are\n",
      "strong multicollinearity problems or that the design matrix is singular.\n"
     ]
    }
   ],
   "source": [
    "temp = train.select_dtypes(include=[np.number])\n",
    "temp = temp[temp.columns.difference(['logmove', 'product'])]\n",
    "formula = 'logmove ~ ' + \"+\".join(temp.columns)\n",
    "model = smf.ols(formula, data=train)\n",
    "ols_fit = model.fit()\n",
    "print(ols_fit.summary())"
   ]
  },
  {
   "cell_type": "code",
   "execution_count": 101,
   "id": "7c337a65",
   "metadata": {
    "scrolled": true
   },
   "outputs": [
    {
     "data": {
      "text/plain": [
       "0.5262745021845106"
      ]
     },
     "execution_count": 101,
     "metadata": {},
     "output_type": "execute_result"
    }
   ],
   "source": [
    "from sklearn.metrics import mean_squared_error\n",
    "y_pred = ols_fit.predict(test)\n",
    "mean_squared_error(test[['logmove']], y_pred)"
   ]
  },
  {
   "cell_type": "markdown",
   "id": "f238bfef",
   "metadata": {},
   "source": [
    "The price elasticity is -0.0655. If price increase by 1%, then the quantity decreases by 0.06%. Markup can be also calculated; 1/0.06 = 16.7% markup, which is lower than the expectation of 30-40% markup. The coefficients of Tropicana and Dominicks are ecah 2.1618 and 2.4681, higher than any other brands. If the orange juice has Tropicana or Dominicks brand, it sells better. In order to tell why they sell better, I would need to consider the interaction of brand and price, demographics of people buying each brands, and more. Being on deal and being featured also increases quantities sold. From the result, it seems like being featured has bigger impact on the quantities sold than being on deal. Interestingly, the coefficient of profit is negative. This could be due to the fact that retailers selling below marginal cost to move inventory, as disscused in the previous section. Furtuher study on the data will be required to tell the cause."
   ]
  },
  {
   "cell_type": "markdown",
   "id": "f38da1ca",
   "metadata": {},
   "source": [
    "##### Double Random Forest\n",
    "\n",
    "Since I want to measure the causual relationship (the effect of price on quantity sold), Doubl ML will be used to determine the causual effect. I used the same hard-encoded dataframe created for OLS for this model. 5 fold cross validation was used to select the hyperparmeter for building trees."
   ]
  },
  {
   "cell_type": "code",
   "execution_count": 102,
   "id": "b265725b",
   "metadata": {},
   "outputs": [],
   "source": [
    "X = temp.columns.difference(['logmove', 'price'])\n",
    "X = list(X)\n",
    "\n",
    "dml_data = DoubleMLData(model_df,\n",
    "                                  y_col='logmove',\n",
    "                                  d_cols='price',\n",
    "                                  x_cols=X)"
   ]
  },
  {
   "cell_type": "code",
   "execution_count": 103,
   "id": "5d800694",
   "metadata": {
    "scrolled": true
   },
   "outputs": [
    {
     "name": "stdout",
     "output_type": "stream",
     "text": [
      "================== DoubleMLPLR Object ==================\n",
      "\n",
      "------------------ Data summary      ------------------\n",
      "Outcome variable: logmove\n",
      "Treatment variable(s): ['price']\n",
      "Covariates: ['AGE60', 'CPDIST5', 'CPWVOL5', 'Citrus_hill', 'Dominicks', 'EDUC', 'ETHNIC', 'Florida_gold', 'Florida_natural', 'HHLARGE', 'HVAL150', 'INCOME', 'Minute_maid', 'SSTRDIST', 'SSTRVOL', 'STORE', 'Tree_fresh', 'Tropicana', 'WORKWOM', 'deal', 'feat', 'profit', 'size', 'store', 'week']\n",
      "Instrument variable(s): None\n",
      "No. Observations: 1167529\n",
      "\n",
      "------------------ Score & algorithm ------------------\n",
      "Score function: partialling out\n",
      "DML algorithm: dml2\n",
      "\n",
      "------------------ Machine learner   ------------------\n",
      "Learner ml_l: RandomForestRegressor(max_depth=5, max_features='sqrt')\n",
      "Learner ml_m: RandomForestRegressor(max_depth=5, max_features='sqrt')\n",
      "\n",
      "------------------ Resampling        ------------------\n",
      "No. folds: 5\n",
      "No. repeated sample splits: 1\n",
      "Apply cross-fitting: True\n",
      "\n",
      "------------------ Fit summary       ------------------\n",
      "         coef   std err         t         P>|t|     2.5 %    97.5 %\n",
      "price -0.0261  0.003075 -8.487469  2.111862e-17 -0.032127 -0.020073\n"
     ]
    }
   ],
   "source": [
    "learner = RandomForestRegressor(n_estimators = 100, max_features = 'sqrt', max_depth= 5)\n",
    "\n",
    "ml_l = clone(learner)\n",
    "\n",
    "ml_m = clone(learner)\n",
    "\n",
    "np.random.seed(3141)\n",
    "\n",
    "obj_dml_plr = DoubleMLPLR(dml_data, ml_l, ml_m)\n",
    "\n",
    "obj_dml_plr.fit()\n",
    "\n",
    "print(obj_dml_plr)"
   ]
  },
  {
   "cell_type": "markdown",
   "id": "0ba12d76",
   "metadata": {},
   "source": [
    "The price elasticity is -0.023085. If price increase by 1%, then the quantity decreases by 0.02%. Markup can be also calculated; 1/0.02 = 50% markup, which is slightly than the expectation of 20-40% markup. Because I am not examining subtitue effects between the brands, this could have driven up the estimate for the markup. The elasticity of orange juice is inelastic, suggesting consumers prefers orange juices. "
   ]
  },
  {
   "cell_type": "markdown",
   "id": "a6567e0a",
   "metadata": {},
   "source": [
    "# Further Questions\n",
    "\n",
    "1. Multiple aritcles claim Tropicana as the best selling orange juice of US. I want to examine the elasticity of tropicana to measure the market power and markup of the brand. In doing so, inter-temporal subtitution and cross elasticities would need to be controlled for. \n",
    "\n",
    "2. Examine the effect of being featured on quantity sold. This might be tricky to examine the causual relationship since it is likely that price are lower when the brand is featured. The assumption of Double ML is that E[μ|t, X]=0. In other words, price setters do not act on anything that allows them to predict sales that is not in the data. Retailers features a product because they anticipate sales to increase when there is price drop, then this ananlysis does not work.\n",
    "\n",
    "3. Which type of store has higher profit? The ones with more, or those with less variety of brands/sizes?\n",
    "\n",
    "4. What demographics of people prefer which brand?\n",
    "\n",
    "5. Which brands are most competitive (i.e. largest magnitude of cross-price elasticity)"
   ]
  }
 ],
 "metadata": {
  "kernelspec": {
   "display_name": "Python 3 (ipykernel)",
   "language": "python",
   "name": "python3"
  },
  "language_info": {
   "codemirror_mode": {
    "name": "ipython",
    "version": 3
   },
   "file_extension": ".py",
   "mimetype": "text/x-python",
   "name": "python",
   "nbconvert_exporter": "python",
   "pygments_lexer": "ipython3",
   "version": "3.9.5"
  }
 },
 "nbformat": 4,
 "nbformat_minor": 5
}
