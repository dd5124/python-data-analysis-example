{
 "cells": [
  {
   "cell_type": "code",
   "execution_count": 1,
   "id": "d4145c32",
   "metadata": {},
   "outputs": [],
   "source": [
    "import pandas as pd"
   ]
  },
  {
   "cell_type": "code",
   "execution_count": 2,
   "id": "bbc50dff",
   "metadata": {},
   "outputs": [],
   "source": [
    "sales_df = pd.read_csv('data_/sales.csv')\n",
    "store_df = pd.read_csv('data_/store.csv')"
   ]
  },
  {
   "cell_type": "code",
   "execution_count": null,
   "id": "2b714636",
   "metadata": {},
   "outputs": [],
   "source": []
  }
 ],
 "metadata": {
  "kernelspec": {
   "display_name": "Python 3 (ipykernel)",
   "language": "python",
   "name": "python3"
  },
  "language_info": {
   "codemirror_mode": {
    "name": "ipython",
    "version": 3
   },
   "file_extension": ".py",
   "mimetype": "text/x-python",
   "name": "python",
   "nbconvert_exporter": "python",
   "pygments_lexer": "ipython3",
   "version": "3.9.5"
  }
 },
 "nbformat": 4,
 "nbformat_minor": 5
}
